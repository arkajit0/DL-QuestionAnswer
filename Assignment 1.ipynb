{
 "cells": [
  {
   "cell_type": "markdown",
   "metadata": {},
   "source": [
    "#### Problem 1\n",
    "What is the function of a summation junction of a neuron? What is threshold activation\n",
    "function?\n",
    "\n",
    "Answer:<br>\n",
    "Summation, in physiology, the additive effect of several electrical impulses on a neuromuscular junction, the junction between a nerve cell and a muscle cell. Individually the stimuli cannot evoke a response, but collectively they can generate a response.<br>\n",
    "The activation function is a non-linear transformation that we do over the input before sending it to the next layer of neurons or finalizing it as output.We consider a threshold value and if the value of net input say y is greater than the threshold then the neuron is activated."
   ]
  },
  {
   "cell_type": "markdown",
   "metadata": {},
   "source": [
    "#### Problem 2\n",
    "What is a step function? What is the difference of step function with threshold function?\n",
    "\n",
    "Answer:<br>\n",
    "A step function is a function like that used by the original Perceptron. The output is a certain value, A1, if the input sum is above a certain threshold and A0 if the input sum is below a certain threshold. The values used by the Perceptron were A1 = 1 and A0 = 0.<br>\n",
    "Step Function is one of the simplest kind of activation functions. In this, we consider a threshold value and if the value of net input say y is greater than the threshold then the neuron is activated."
   ]
  },
  {
   "cell_type": "markdown",
   "metadata": {},
   "source": [
    "#### Problem 3\n",
    "Explain the McCulloch–Pitts model of neuron.\n",
    "\n",
    "Answer:<br>\n",
    "This is simplified model of real neurons, known as Threshold Logic Unit. A set of synapsesc (i.e connections) brings the activations from the other neurons. A processing unit sums the inputs, the applies the non-linear activation funcation (i.e threshold / transfer function)."
   ]
  },
  {
   "cell_type": "markdown",
   "metadata": {},
   "source": [
    "#### Problem 4\n",
    "Explain the ADALINE network model.\n",
    "\n",
    "Answer:<br>\n",
    "ADALINE (Adaptive Linear Neuron or later Adaptive Linear Element) is an early single-layer artificial neural network and the name of the physical device that implemented this network. The network uses memistors. ... It is based on the McCulloch–Pitts neuron. It consists of a weight, a bias and a summation function."
   ]
  },
  {
   "cell_type": "markdown",
   "metadata": {},
   "source": [
    "#### Problem 5\n",
    "What is the constraint of a simple perceptron? Why it may fail with a real-world data set?\n",
    "\n",
    "Answer:<br>\n",
    "A perceptron is a simple classifier that takes the weighted sum of the D input feature values (along with an additional constant input value) and outputs + 1 for yes if the result of the weighted sum is greater than some threshold T and outputs 0 for no otherwise. Given data, it is easy to find a threshold and weights for such a perceptron that yield the least error (or cost) on that data.<br>\n",
    "Perceptrons were able to solve a range of decision problems, in particular they were able to represent logic gates such as “AND”, “OR,” and “NOT.” The perceptron learning rule tended to converge to an optimal set of weights for several classes of input patterns. However, this was not always guaranteed. Another limitation arose when the data were not linearly separable—for example, the classic “XOR.” A XOR gate resolves to “true” if the two inputs are different and resolves to “false” if both inputs are the same."
   ]
  },
  {
   "cell_type": "markdown",
   "metadata": {},
   "source": [
    "#### Problem 6\n",
    "What is linearly inseparable problem? What is the role of the hidden layer?\n",
    "\n",
    "Answer:<br>\n",
    "The problem of determining if a pair of sets is linearly separable and finding a separating hyperplane if they are, arises in several areas. In statistics and machine learning, classifying certain types of data is a problem for which good algorithms exist that are based on this concept.<br>\n",
    "Hidden layers, simply put, are layers of mathematical functions each designed to produce an output specific to an intended result.Hidden layers allow for the function of a neural network to be broken down into specific transformations of the data. Each hidden layer function is specialized to produce a defined output."
   ]
  },
  {
   "cell_type": "markdown",
   "metadata": {},
   "source": [
    "#### Problem 7\n",
    "Explain XOR problem in case of a simple perceptron.\n",
    "\n",
    "Answer:<br>\n",
    "XOR is where if one is 1 and other is 0 but not both. A \"single-layer\" perceptron can't implement XOR. The reason is because the classes in XOR are not linearly separable. We cannot draw a straight line to separate the points (0,0),(1,1) from the points (0,1),(1,0)."
   ]
  },
  {
   "cell_type": "markdown",
   "metadata": {},
   "source": [
    "#### Problem 8\n",
    "Design a multi-layer perceptron to implement A XOR B.\n",
    "\n",
    "Answer:<br>\n",
    "XOR(A, B) = A.B' + A'.B<br>\n",
    "XOR(A, B) = A.B' + A'.B + A.A' + B.B'<br>\n",
    "XOR(A, B) = (A+B).(A'+B')<br>\n",
    "XOR(A, B) = (A+B).((A.B)')<br>"
   ]
  },
  {
   "cell_type": "markdown",
   "metadata": {},
   "source": [
    "#### Problem 9\n",
    "Explain the single-layer feed forward architecture of ANN.\n",
    "\n",
    "Answer:<br>\n",
    "The feedforward neural network was the first and simplest type of artificial neural network devised. In this network, the information moves in only one direction—forward—from the input nodes, through the hidden nodes (if any) and to the output nodes. There are no cycles or loops in the network."
   ]
  },
  {
   "cell_type": "markdown",
   "metadata": {},
   "source": [
    "#### Problem 10\n",
    "Explain the competitive network architecture of ANN.\n",
    "\n",
    "Answer:<br>\n",
    "An Artificial Neural Network (ANN) is an information processing paradigm that is inspired from the brain. ... An ANN is configured for a specific application, such as pattern recognition or data classification, through a learning process."
   ]
  },
  {
   "cell_type": "markdown",
   "metadata": {},
   "source": [
    "#### Problem 11\n",
    "Consider a multi-layer feed forward neural network. Enumerate and explain steps in the\n",
    "backpropagation algorithm used to train the network.\n",
    "\n",
    "Answer:<br>\n",
    "Let us take a look at how backpropagation works. It has four layers: input layer, hidden layer, hidden layer II and final output layer.\n",
    "\n",
    "So, the main three layers are:\n",
    "\n",
    "- Input layer\n",
    "- Hidden layer\n",
    "- Output layer\n",
    "\n",
    "Let us take input x and weight w. Then\n",
    "1. Input layer receives x\n",
    "2. Input is modeled using weights w\n",
    "3. Each hidden layer calculates the output and data is ready at the output layer\n",
    "4. Difference between actual output and desired output is known as the error\n",
    "5. Go back to the hidden layers and adjust the weights so that this error is reduced in future runs\n",
    "This process is repeated till we get the desired output."
   ]
  },
  {
   "cell_type": "markdown",
   "metadata": {},
   "source": [
    "#### Problem 12\n",
    "What are the advantages and disadvantages of neural networks?\n",
    "\n",
    "Answer:<br>\n",
    "Advantages:<br>\n",
    "The ability to work with inadequate knowledge: After ANN training, the data may produce output even with incomplete information. The lack of performance here depends on the importance of the missing information. \n",
    "\n",
    "It has fault tolerance:  Corruption of one or more cells of ANN does not prevent it from generating output. This feature makes the networks fault-tolerant. \n",
    "\n",
    "Having a distributed memory: For ANN to be able to learn, it is necessary to determine the examples and to teach the network according to the desired output by showing these examples to the network. The network's progress is directly proportional to the selected instances, and if the event can not be shown to the network in all its aspects, the network can produce incorrect output \n",
    "\n",
    "Gradual corruption:  A network slows over time and undergoes relative degradation. The network problem does not immediately corrode.\n",
    "\n",
    "Ability to train machine: Artificial neural networks learn events and make decisions by commenting on similar events. \n",
    "\n",
    " Parallel processing ability:  Artificial neural networks have numerical strength that can perform more than one job at the same time. \n",
    " \n",
    " Disadvantages:<br>\n",
    " Hardware dependence:  Artificial neural networks require processors with parallel processing power, by their structure. For this reason, the realization of the equipment is dependent. \n",
    "\n",
    "Unexplained functioning of the network: This is the most important problem of ANN. When ANN gives a probing solution, it does not give a clue as to why and how. This reduces trust in the network. \n",
    "\n",
    "Assurance of proper network structure:  There is no specific rule for determining the structure of artificial neural networks. The appropriate network structure is achieved through experience and trial and error. \n",
    "\n",
    "The difficulty of showing the problem to the network:  ANNs can work with numerical information. Problems have to be translated into numerical values before being introduced to ANN. The display mechanism to be determined here will directly influence the performance of the network. This depends on the user's ability. \n",
    "\n",
    "The duration of the network is unknown: The network is reduced to a certain value of the error on the sample means that the training has been completed. This value does not give us optimum results. "
   ]
  },
  {
   "cell_type": "markdown",
   "metadata": {},
   "source": [
    "#### Problem 13\n",
    "Write short notes on any two of the following:\n",
    "1. Biological neuron\n",
    "2. ReLU function\n",
    "3. Single-layer feed forward ANN\n",
    "4. Gradient descent\n",
    "5. Recurrent networks\n",
    "\n",
    "Answer:<br>\n",
    "\n",
    "1. Biological neuron<br>\n",
    "    Biological neuron models, also known as a spiking neuron models, are mathematical descriptions of the properties of certain cells in the nervous system that generate sharp electrical potentials across their cell membrane, roughly one millisecond in duration, called action potentials or spikes.\n",
    "\n",
    "2. ReLU function<br>\n",
    "    In the context of artificial neural networks, the rectifier or ReLU activation function is an activation function defined as the positive part of its argument: {\\displaystyle f(x)=x^{+}=\\max} where x is the input to a neuron\n",
    "    \n",
    "3. Single-layer feed forward ANN<br>\n",
    "    A feedforward neural network is an artificial neural network wherein connections between the units do not form a cycle. The simplest kind of neural network is a single-layer perceptron network, which consists of a single layer of output nodes; the inputs are fed directly to the outputs via a series of weights.\n",
    "    \n",
    "4. Gradient descent<br>\n",
    "    Gradient descent is a first-order iterative optimization algorithm for finding a local minimum of a differentiable function. The idea is to take repeated steps in the opposite direction of the gradient (or approximate gradient) of the function at the current point, because this is the direction of steepest descent.\n",
    "    \n",
    "5. Recurrent networks<br>\n",
    "    A recurrent neural network (RNN) is a class of artificial neural networks where connections between nodes form a directed graph along a temporal sequence. This allows it to exhibit temporal dynamic behavior."
   ]
  }
 ],
 "metadata": {
  "kernelspec": {
   "display_name": "Python 3",
   "language": "python",
   "name": "python3"
  },
  "language_info": {
   "codemirror_mode": {
    "name": "ipython",
    "version": 3
   },
   "file_extension": ".py",
   "mimetype": "text/x-python",
   "name": "python",
   "nbconvert_exporter": "python",
   "pygments_lexer": "ipython3",
   "version": "3.7.7"
  }
 },
 "nbformat": 4,
 "nbformat_minor": 4
}
